{
 "cells": [
  {
   "cell_type": "markdown",
   "metadata": {
    "id": "Li0bVCTuxc6n"
   },
   "source": [
    "<div align=\"center\">\n",
    "\n",
    "# National Tsing Hua University\n",
    "\n",
    "### Fall 2023\n",
    "\n",
    "#### 11210IPT 553000\n",
    "\n",
    "#### Deep Learning in Biomedical Optical Imaging\n",
    "\n",
    "## Lab 3: Hyperparameter Tuning\n",
    "\n",
    "</div>\n"
   ]
  },
  {
   "cell_type": "code",
   "execution_count": 1,
   "metadata": {
    "id": "mGJcRwdzM7pS"
   },
   "outputs": [],
   "source": [
    "# # Download dataset\n",
    "# !wget https://raw.githubusercontent.com/TacoXDD/homeworks/master/dataset/train/normal.npy\n",
    "# !wget https://raw.githubusercontent.com/TacoXDD/homeworks/master/dataset/train/pneumonia.npy"
   ]
  },
  {
   "cell_type": "markdown",
   "metadata": {
    "id": "w-1PsC--M7pT"
   },
   "source": [
    "## A. Data Loading and Preprocessing"
   ]
  },
  {
   "cell_type": "code",
   "execution_count": 2,
   "metadata": {
    "id": "oScQ0GG6xc6r"
   },
   "outputs": [
    {
     "name": "stdout",
     "output_type": "stream",
     "text": [
      "Shape of abnormal_scans: (1000, 256, 256)\n",
      "Shape of normal_scans: (1000, 256, 256)\n",
      "Number of samples in train and validation are 1600 and 400.\n",
      "X_train: max value is 255.0, min value is 0.0, data type is torch.float32.\n"
     ]
    }
   ],
   "source": [
    "import torch\n",
    "from torch.utils.data import DataLoader, TensorDataset, random_split\n",
    "\n",
    "import numpy as np\n",
    "\n",
    "# Load Dataset\n",
    "abnormal_scans = np.load('pneumonia.npy')\n",
    "normal_scans = np.load('normal.npy')\n",
    "\n",
    "print(f'Shape of abnormal_scans: {abnormal_scans.shape}')\n",
    "print(f'Shape of normal_scans: {normal_scans.shape}')\n",
    "\n",
    "# For the data having presence of pneumonia assign 1, for the normal ones assign 0.\n",
    "\n",
    "abnormal_labels = np.ones((abnormal_scans.shape[0],))\n",
    "normal_labels = np.zeros((normal_scans.shape[0],))\n",
    "\n",
    "split_point = 800\n",
    "\n",
    "x_train = np.concatenate((abnormal_scans[:split_point], normal_scans[:split_point]), axis=0)\n",
    "y_train = np.concatenate((abnormal_labels[:split_point], normal_labels[:split_point]), axis=0)\n",
    "x_val = np.concatenate((abnormal_scans[split_point:], normal_scans[split_point:]), axis=0)\n",
    "y_val = np.concatenate((abnormal_labels[split_point:], normal_labels[split_point:]), axis=0)\n",
    "\n",
    "# Convert to PyTorch tensors\n",
    "x_train = torch.from_numpy(x_train).float()\n",
    "y_train = torch.from_numpy(y_train).long()\n",
    "x_val = torch.from_numpy(x_val).float()\n",
    "y_val = torch.from_numpy(y_val).long()\n",
    "\n",
    "# Create datasets\n",
    "train_dataset = TensorDataset(x_train, y_train)\n",
    "val_dataset = TensorDataset(x_val, y_val)\n",
    "\n",
    "# Create dataloaders\n",
    "train_loader = DataLoader(train_dataset, batch_size=32, shuffle=True)\n",
    "val_loader = DataLoader(val_dataset, batch_size=32, shuffle=False)\n",
    "\n",
    "print(f'Number of samples in train and validation are {len(train_loader.dataset)} and {len(val_loader.dataset)}.')\n",
    "print(f'X_train: max value is {x_train.max().item()}, min value is {x_train.min().item()}, data type is {x_train.dtype}.')"
   ]
  },
  {
   "cell_type": "markdown",
   "metadata": {
    "id": "oaLGtT28xc6s"
   },
   "source": [
    "## B. Defining Neural Networks in PyTorch"
   ]
  },
  {
   "cell_type": "code",
   "execution_count": 3,
   "metadata": {
    "id": "JZP0t5kOxc6s"
   },
   "outputs": [
    {
     "name": "stdout",
     "output_type": "stream",
     "text": [
      "Sequential(\n",
      "  (0): Flatten(start_dim=1, end_dim=-1)\n",
      "  (1): Linear(in_features=65536, out_features=64, bias=True)\n",
      "  (2): BatchNorm1d(64, eps=1e-05, momentum=0.1, affine=True, track_running_stats=True)\n",
      "  (3): ReLU()\n",
      "  (4): Dropout(p=0.5, inplace=False)\n",
      "  (5): Linear(in_features=64, out_features=64, bias=True)\n",
      "  (6): BatchNorm1d(64, eps=1e-05, momentum=0.1, affine=True, track_running_stats=True)\n",
      "  (7): ReLU()\n",
      "  (8): Dropout(p=0.5, inplace=False)\n",
      "  (9): Linear(in_features=64, out_features=64, bias=True)\n",
      "  (10): BatchNorm1d(64, eps=1e-05, momentum=0.1, affine=True, track_running_stats=True)\n",
      "  (11): ReLU()\n",
      "  (12): Dropout(p=0.5, inplace=False)\n",
      "  (13): Linear(in_features=64, out_features=1, bias=True)\n",
      ")\n"
     ]
    }
   ],
   "source": [
    "import torch.nn as nn\n",
    "\n",
    "# Model in Lab 2\n",
    "# model = nn.Sequential(\n",
    "#     nn.Flatten(),\n",
    "#     nn.Linear(256*256*1, 256),\n",
    "#     nn.ReLU(),\n",
    "#     nn.Linear(256, 1)\n",
    "# ).cuda()\n",
    "\n",
    "model = nn.Sequential(\n",
    "    nn.Flatten(),\n",
    "    \n",
    "    nn.Linear(256*256*1, 64), \n",
    "    nn.BatchNorm1d(64),\n",
    "    nn.ReLU(), \n",
    "    nn.Dropout(0.5), \n",
    "    \n",
    "    nn.Linear(64, 64), \n",
    "    nn.BatchNorm1d(64),\n",
    "    nn.ReLU(), \n",
    "    nn.Dropout(0.5), \n",
    "    \n",
    "    nn.Linear(64, 64),  \n",
    "    nn.BatchNorm1d(64),  \n",
    "    nn.ReLU(),  \n",
    "    nn.Dropout(0.5), \n",
    "    \n",
    "    nn.Linear(64, 1)\n",
    ").cuda()\n",
    "\n",
    "print(model)"
   ]
  },
  {
   "cell_type": "markdown",
   "metadata": {
    "id": "nvLTU-IfZLqn"
   },
   "source": [
    "## C. Training the Neural Network"
   ]
  },
  {
   "cell_type": "code",
   "execution_count": 4,
   "metadata": {
    "id": "45ol4lpVxc6t"
   },
   "outputs": [
    {
     "name": "stdout",
     "output_type": "stream",
     "text": [
      "Epoch 1/30, Train Loss: 0.5789, Train Accuracy: 71.56%, Val Loss: 0.4223, Val Accuracy: 89.00%\n"
     ]
    },
    {
     "name": "stderr",
     "output_type": "stream",
     "text": [
      "/opt/conda/lib/python3.8/site-packages/torch/nn/modules/module.py:1402: UserWarning: positional arguments and argument \"destination\" are deprecated. nn.Module.state_dict will not accept them in the future. Refer to https://pytorch.org/docs/master/generated/torch.nn.Module.html#torch.nn.Module.state_dict for details.\n",
      "  warnings.warn(\n"
     ]
    },
    {
     "name": "stdout",
     "output_type": "stream",
     "text": [
      "Epoch 2/30, Train Loss: 0.3705, Train Accuracy: 87.62%, Val Loss: 0.2868, Val Accuracy: 93.00%\n",
      "Epoch 3/30, Train Loss: 0.2561, Train Accuracy: 90.69%, Val Loss: 0.3548, Val Accuracy: 84.25%\n",
      "Epoch 4/30, Train Loss: 0.2320, Train Accuracy: 91.88%, Val Loss: 0.1793, Val Accuracy: 94.50%\n",
      "Epoch 5/30, Train Loss: 0.1932, Train Accuracy: 93.88%, Val Loss: 0.1952, Val Accuracy: 92.75%\n",
      "Epoch 6/30, Train Loss: 0.1780, Train Accuracy: 93.50%, Val Loss: 0.1967, Val Accuracy: 92.75%\n",
      "Epoch 7/30, Train Loss: 0.1557, Train Accuracy: 93.94%, Val Loss: 0.3979, Val Accuracy: 83.75%\n",
      "Epoch 8/30, Train Loss: 0.1495, Train Accuracy: 94.44%, Val Loss: 0.3595, Val Accuracy: 86.25%\n",
      "Epoch 9/30, Train Loss: 0.1207, Train Accuracy: 96.19%, Val Loss: 0.1677, Val Accuracy: 94.00%\n",
      "Epoch 10/30, Train Loss: 0.1142, Train Accuracy: 95.56%, Val Loss: 0.2454, Val Accuracy: 92.00%\n",
      "Epoch 11/30, Train Loss: 0.1197, Train Accuracy: 95.94%, Val Loss: 0.1738, Val Accuracy: 93.50%\n",
      "Epoch 12/30, Train Loss: 0.1120, Train Accuracy: 96.06%, Val Loss: 0.8787, Val Accuracy: 68.25%\n",
      "Epoch 13/30, Train Loss: 0.1010, Train Accuracy: 96.25%, Val Loss: 0.2037, Val Accuracy: 92.00%\n",
      "Epoch 14/30, Train Loss: 0.1121, Train Accuracy: 96.25%, Val Loss: 0.3390, Val Accuracy: 88.75%\n",
      "Epoch 15/30, Train Loss: 0.0840, Train Accuracy: 97.62%, Val Loss: 0.1501, Val Accuracy: 94.25%\n",
      "Epoch 16/30, Train Loss: 0.1106, Train Accuracy: 95.81%, Val Loss: 0.2004, Val Accuracy: 93.25%\n",
      "Epoch 17/30, Train Loss: 0.0830, Train Accuracy: 97.00%, Val Loss: 0.1788, Val Accuracy: 94.25%\n",
      "Epoch 18/30, Train Loss: 0.0831, Train Accuracy: 97.38%, Val Loss: 0.3108, Val Accuracy: 89.00%\n",
      "Epoch 19/30, Train Loss: 0.0608, Train Accuracy: 97.81%, Val Loss: 0.2448, Val Accuracy: 93.00%\n",
      "Epoch 20/30, Train Loss: 0.0774, Train Accuracy: 96.81%, Val Loss: 0.2401, Val Accuracy: 92.00%\n",
      "Epoch 21/30, Train Loss: 0.0826, Train Accuracy: 97.06%, Val Loss: 0.7073, Val Accuracy: 78.50%\n",
      "Epoch 22/30, Train Loss: 0.0886, Train Accuracy: 96.88%, Val Loss: 0.2902, Val Accuracy: 90.50%\n",
      "Epoch 23/30, Train Loss: 0.0556, Train Accuracy: 98.19%, Val Loss: 0.9710, Val Accuracy: 72.75%\n",
      "Epoch 24/30, Train Loss: 0.0538, Train Accuracy: 98.25%, Val Loss: 0.4126, Val Accuracy: 88.00%\n",
      "Epoch 25/30, Train Loss: 0.0607, Train Accuracy: 97.56%, Val Loss: 0.2196, Val Accuracy: 93.50%\n",
      "Epoch 26/30, Train Loss: 0.0532, Train Accuracy: 98.38%, Val Loss: 0.1656, Val Accuracy: 95.00%\n",
      "Epoch 27/30, Train Loss: 0.0836, Train Accuracy: 96.81%, Val Loss: 0.2570, Val Accuracy: 91.25%\n",
      "Epoch 28/30, Train Loss: 0.0617, Train Accuracy: 98.00%, Val Loss: 0.4499, Val Accuracy: 86.50%\n",
      "Epoch 29/30, Train Loss: 0.0670, Train Accuracy: 97.75%, Val Loss: 0.4528, Val Accuracy: 86.00%\n",
      "Epoch 30/30, Train Loss: 0.0562, Train Accuracy: 97.88%, Val Loss: 0.1788, Val Accuracy: 94.25%\n"
     ]
    }
   ],
   "source": [
    "import torch.optim as optim\n",
    "from torch.optim.lr_scheduler import CosineAnnealingLR, StepLR\n",
    "\n",
    "train_losses = []\n",
    "val_losses = []\n",
    "train_accuracies = []\n",
    "val_accuracies = []\n",
    "\n",
    "epochs = 30\n",
    "best_val_loss = float('inf')\n",
    "\n",
    "# Criterion and Optimizer\n",
    "criterion = nn.BCEWithLogitsLoss()\n",
    "optimizer = optim.Adam(model.parameters(), lr=1e-3)\n",
    "lr_scheduler = CosineAnnealingLR(optimizer, T_max=len(train_loader)*epochs, eta_min=0)\n",
    "# lr_scheduler = StepLR(optimizer, step_size=10, gamma=0.1)\n",
    "\n",
    "for epoch in range(epochs):\n",
    "    # Training\n",
    "    model.train()\n",
    "    total_loss = 0.0\n",
    "    train_correct = 0\n",
    "    total_train_samples = 0\n",
    "\n",
    "    for images, labels in train_loader:\n",
    "        images = images.cuda()\n",
    "        images = images / 255.\n",
    "        labels = labels.cuda()\n",
    "        optimizer.zero_grad()\n",
    "        outputs = model(images)\n",
    "        \n",
    "        labels = labels.float().unsqueeze(1)\n",
    "        \n",
    "        loss = criterion(outputs, labels)\n",
    "        loss.backward()\n",
    "        optimizer.step()\n",
    "        total_loss += loss.item()\n",
    "\n",
    "        train_predicted = torch.sigmoid(outputs) > 0.5\n",
    "        train_correct += (train_predicted.float() == labels).sum().item()\n",
    "        total_train_samples += labels.size(0)\n",
    "\n",
    "    avg_train_loss = total_loss / len(train_loader)\n",
    "    train_accuracy = 100. * train_correct / total_train_samples\n",
    "\n",
    "    # Validation\n",
    "    model.eval()\n",
    "    total_val_loss = 0.0\n",
    "    correct = 0\n",
    "    total = 0\n",
    "    with torch.no_grad():\n",
    "        for images, labels in val_loader:\n",
    "            images = images.cuda()\n",
    "            images = images / 255.\n",
    "            labels = labels.cuda()\n",
    "            outputs = model(images)\n",
    "            \n",
    "            labels = labels.float().unsqueeze(1)  \n",
    "            \n",
    "            loss = criterion(outputs, labels)\n",
    "            total_val_loss += loss.item()\n",
    "\n",
    "            predicted = torch.sigmoid(outputs) > 0.5\n",
    "            correct += (predicted.float() == labels).sum().item()\n",
    "            total += labels.size(0)\n",
    "\n",
    "    avg_val_loss = total_val_loss / len(val_loader)\n",
    "    val_accuracy = 100. * correct / total\n",
    "\n",
    "    print(f'Epoch {epoch+1}/{epochs}, Train Loss: {avg_train_loss:.4f}, Train Accuracy: {train_accuracy:.2f}%, Val Loss: {avg_val_loss:.4f}, Val Accuracy: {val_accuracy:.2f}%')\n",
    "\n",
    "    # Learning rate update\n",
    "    lr_scheduler.step()\n",
    "\n",
    "    # Checkpoint\n",
    "    if avg_val_loss < best_val_loss:\n",
    "        best_val_loss = avg_val_loss\n",
    "        torch.save(model.state_dict(), 'model_classification.pth')\n",
    "\n",
    "    # Store performance\n",
    "    train_losses.append(avg_train_loss)\n",
    "    train_accuracies.append(train_accuracy)\n",
    "    val_losses.append(avg_val_loss)\n",
    "    val_accuracies.append(val_accuracy)"
   ]
  },
  {
   "cell_type": "markdown",
   "metadata": {
    "id": "pjmYxAJnxc6t"
   },
   "source": [
    "### Visualizing model performance"
   ]
  },
  {
   "cell_type": "code",
   "execution_count": 5,
   "metadata": {
    "id": "pHpS0Q7vxc6t"
   },
   "outputs": [
    {
     "data": {
      "image/png": "[encoded data removed]",
      "text/plain": [
       "<Figure size 1080x360 with 2 Axes>"
      ]
     },
     "metadata": {
      "needs_background": "light"
     },
     "output_type": "display_data"
    }
   ],
   "source": [
    "import matplotlib.pyplot as plt\n",
    "\n",
    "fig, ax = plt.subplots(1, 2, figsize=(15, 5))\n",
    "\n",
    "# Plotting training and validation accuracy\n",
    "ax[0].plot(train_accuracies)\n",
    "ax[0].plot(val_accuracies)\n",
    "ax[0].set_title('Model Accuracy')\n",
    "ax[0].set_xlabel('Epochs')\n",
    "ax[0].set_ylabel('Accuracy')\n",
    "ax[0].legend(['Train', 'Val'])\n",
    "\n",
    "# Plotting training and validation loss\n",
    "ax[1].plot(train_losses)\n",
    "ax[1].plot(val_losses)\n",
    "ax[1].set_title('Model Loss')\n",
    "ax[1].set_xlabel('Epochs')\n",
    "ax[1].set_ylabel('Loss')\n",
    "ax[1].legend(['Train', 'Val'])\n",
    "\n",
    "plt.show()"
   ]
  },
  {
   "cell_type": "code",
   "execution_count": null,
   "metadata": {},
   "outputs": [],
   "source": []
  }
 ],
 "metadata": {
  "accelerator": "GPU",
  "colab": {
   "gpuType": "T4",
   "provenance": []
  },
  "kernelspec": {
   "display_name": "Python 3 (ipykernel)",
   "language": "python",
   "name": "python3"
  },
  "language_info": {
   "codemirror_mode": {
    "name": "ipython",
    "version": 3
   },
   "file_extension": ".py",
   "mimetype": "text/x-python",
   "name": "python",
   "nbconvert_exporter": "python",
   "pygments_lexer": "ipython3",
   "version": "3.8.13"
  }
 },
 "nbformat": 4,
 "nbformat_minor": 4
}
